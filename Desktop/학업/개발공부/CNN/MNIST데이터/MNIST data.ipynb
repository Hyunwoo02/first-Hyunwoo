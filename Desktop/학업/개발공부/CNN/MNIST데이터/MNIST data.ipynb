{
 "cells": [
  {
   "cell_type": "code",
   "execution_count": 6,
   "metadata": {},
   "outputs": [
    {
     "ename": "ModuleNotFoundError",
     "evalue": "No module named 'tensorflow'",
     "output_type": "error",
     "traceback": [
      "\u001b[0;31m---------------------------------------------------------------------------\u001b[0m",
      "\u001b[0;31mModuleNotFoundError\u001b[0m                       Traceback (most recent call last)",
      "\u001b[1;32m/Users/hyunk/Desktop/학업/개발공부/CNN/MNIST데이터/MNIST data.ipynb 셀 1\u001b[0m in \u001b[0;36m<cell line: 2>\u001b[0;34m()\u001b[0m\n\u001b[1;32m      <a href='vscode-notebook-cell:/Users/hyunk/Desktop/%ED%95%99%EC%97%85/%EA%B0%9C%EB%B0%9C%EA%B3%B5%EB%B6%80/CNN/MNIST%EB%8D%B0%EC%9D%B4%ED%84%B0/MNIST%20data.ipynb#ch0000000?line=0'>1</a>\u001b[0m \u001b[39m#mnist 데이터 셋 가져오기\u001b[39;00m\n\u001b[0;32m----> <a href='vscode-notebook-cell:/Users/hyunk/Desktop/%ED%95%99%EC%97%85/%EA%B0%9C%EB%B0%9C%EA%B3%B5%EB%B6%80/CNN/MNIST%EB%8D%B0%EC%9D%B4%ED%84%B0/MNIST%20data.ipynb#ch0000000?line=1'>2</a>\u001b[0m \u001b[39mfrom\u001b[39;00m \u001b[39mkeras\u001b[39;00m\u001b[39m.\u001b[39;00m\u001b[39mdatasets\u001b[39;00m \u001b[39mimport\u001b[39;00m mnist\n\u001b[1;32m      <a href='vscode-notebook-cell:/Users/hyunk/Desktop/%ED%95%99%EC%97%85/%EA%B0%9C%EB%B0%9C%EA%B3%B5%EB%B6%80/CNN/MNIST%EB%8D%B0%EC%9D%B4%ED%84%B0/MNIST%20data.ipynb#ch0000000?line=2'>3</a>\u001b[0m \u001b[39m#시각화\u001b[39;00m\n\u001b[1;32m      <a href='vscode-notebook-cell:/Users/hyunk/Desktop/%ED%95%99%EC%97%85/%EA%B0%9C%EB%B0%9C%EA%B3%B5%EB%B6%80/CNN/MNIST%EB%8D%B0%EC%9D%B4%ED%84%B0/MNIST%20data.ipynb#ch0000000?line=3'>4</a>\u001b[0m \u001b[39mimport\u001b[39;00m \u001b[39mmatplotlib\u001b[39;00m\u001b[39m.\u001b[39;00m\u001b[39mpyplot\u001b[39;00m \u001b[39mas\u001b[39;00m \u001b[39mplt\u001b[39;00m\n",
      "File \u001b[0;32m/Library/Frameworks/Python.framework/Versions/3.10/lib/python3.10/site-packages/keras/__init__.py:21\u001b[0m, in \u001b[0;36m<module>\u001b[0;34m\u001b[0m\n\u001b[1;32m     15\u001b[0m \u001b[39m\"\"\"Implementation of the Keras API, the high-level API of TensorFlow.\u001b[39;00m\n\u001b[1;32m     16\u001b[0m \n\u001b[1;32m     17\u001b[0m \u001b[39mDetailed documentation and user guides are available at\u001b[39;00m\n\u001b[1;32m     18\u001b[0m \u001b[39m[keras.io](https://keras.io).\u001b[39;00m\n\u001b[1;32m     19\u001b[0m \u001b[39m\"\"\"\u001b[39;00m\n\u001b[1;32m     20\u001b[0m \u001b[39m# pylint: disable=unused-import\u001b[39;00m\n\u001b[0;32m---> 21\u001b[0m \u001b[39mfrom\u001b[39;00m \u001b[39mtensorflow\u001b[39;00m\u001b[39m.\u001b[39;00m\u001b[39mpython\u001b[39;00m \u001b[39mimport\u001b[39;00m tf2\n\u001b[1;32m     22\u001b[0m \u001b[39mfrom\u001b[39;00m \u001b[39mkeras\u001b[39;00m \u001b[39mimport\u001b[39;00m distribute\n\u001b[1;32m     24\u001b[0m \u001b[39mfrom\u001b[39;00m \u001b[39mkeras\u001b[39;00m \u001b[39mimport\u001b[39;00m models\n",
      "\u001b[0;31mModuleNotFoundError\u001b[0m: No module named 'tensorflow'"
     ]
    }
   ],
   "source": [
    "#mnist 데이터 셋 가져오기\n",
    "from keras.datasets import mnist\n",
    "#시각화\n",
    "import matplotlib.pyplot as plt"
   ]
  },
  {
   "cell_type": "code",
   "execution_count": null,
   "metadata": {},
   "outputs": [],
   "source": []
  }
 ],
 "metadata": {
  "kernelspec": {
   "display_name": "Python 3.10.4 64-bit",
   "language": "python",
   "name": "python3"
  },
  "language_info": {
   "codemirror_mode": {
    "name": "ipython",
    "version": 3
   },
   "file_extension": ".py",
   "mimetype": "text/x-python",
   "name": "python",
   "nbconvert_exporter": "python",
   "pygments_lexer": "ipython3",
   "version": "3.10.4"
  },
  "orig_nbformat": 4,
  "vscode": {
   "interpreter": {
    "hash": "aee8b7b246df8f9039afb4144a1f6fd8d2ca17a180786b69acc140d282b71a49"
   }
  }
 },
 "nbformat": 4,
 "nbformat_minor": 2
}
